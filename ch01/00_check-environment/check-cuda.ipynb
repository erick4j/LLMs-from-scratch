{
 "cells": [
  {
   "cell_type": "code",
   "execution_count": 3,
   "id": "b6f979d0",
   "metadata": {},
   "outputs": [
    {
     "name": "stdout",
     "output_type": "stream",
     "text": [
      "CUDA Version: nvcc not found. CUDA Toolkit may not be installed or not in PATH.\n"
     ]
    }
   ],
   "source": [
    "# You can run this script with Python 3.12\n",
    "\n",
    "import subprocess\n",
    "\n",
    "def get_cuda_version():\n",
    "    try:\n",
    "        output = subprocess.check_output(['nvcc', '--version'], encoding='utf-8')\n",
    "        for line in output.split('\\n'):\n",
    "            if 'release' in line:\n",
    "                # Example: Cuda compilation tools, release 11.8, V11.8.89\n",
    "                version = line.split('release')[-1].split(',')[0].strip()\n",
    "                return version\n",
    "    except FileNotFoundError:\n",
    "        return \"nvcc not found. CUDA Toolkit may not be installed or not in PATH.\"\n",
    "    except Exception as e:\n",
    "        return f\"Error: {e}\"\n",
    "\n",
    "if __name__ == \"__main__\":\n",
    "    print(\"CUDA Version:\", get_cuda_version())"
   ]
  }
 ],
 "metadata": {
  "kernelspec": {
   "display_name": ".venv",
   "language": "python",
   "name": "python3"
  },
  "language_info": {
   "codemirror_mode": {
    "name": "ipython",
    "version": 3
   },
   "file_extension": ".py",
   "mimetype": "text/x-python",
   "name": "python",
   "nbconvert_exporter": "python",
   "pygments_lexer": "ipython3",
   "version": "3.12.3"
  }
 },
 "nbformat": 4,
 "nbformat_minor": 5
}
